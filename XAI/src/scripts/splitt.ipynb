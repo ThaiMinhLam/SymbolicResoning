{
 "cells": [
  {
   "cell_type": "code",
   "execution_count": 1,
   "id": "1970fc15",
   "metadata": {},
   "outputs": [
    {
     "name": "stderr",
     "output_type": "stream",
     "text": [
      "/home/npl/.conda/envs/diffsinger/lib/python3.10/site-packages/tqdm/auto.py:21: TqdmWarning: IProgress not found. Please update jupyter and ipywidgets. See https://ipywidgets.readthedocs.io/en/stable/user_install.html\n",
      "  from .autonotebook import tqdm as notebook_tqdm\n"
     ]
    }
   ],
   "source": [
    "import os\n",
    "os.chdir(\"/data/npl/ViInfographicCaps/Contest/final_contest/XAI\")\n",
    "from utils import load_json\n",
    "import re\n",
    "from collections import defaultdict"
   ]
  },
  {
   "cell_type": "code",
   "execution_count": 7,
   "id": "e76b3ba0",
   "metadata": {},
   "outputs": [],
   "source": [
    "json_file = load_json(\"/data/npl/ViInfographicCaps/Contest/final_contest/XAI/save/paraphrase.json\")"
   ]
  },
  {
   "cell_type": "code",
   "execution_count": null,
   "id": "221d78fa",
   "metadata": {},
   "outputs": [
    {
     "name": "stdout",
     "output_type": "stream",
     "text": [
      "['\\n            <s>[INST] <<SYS>>\\n            ### Instruction:\\n            \\n        \\n        You are an AI reasoning assistant. Your task is to understand and answer questions based on events and rules that happen in an educational setting. The dataset contains simple, rule-based statements (like course completions, enrollments, and eligibility) and facts about individuals (like students).\\n        Your job is to:\\n        - The event must include both verb and object related to that event (submit a form → submit_form)\\n        - Identify logical relationships between events (e.g., \"If A, then B\"),\\n        - Track facts about entities (like what courses David completed),\\n        - Infer new facts by chaining rules together (e.g., if David completed_A and passed_B, then he may be David eligible_for_something),\\n        - Keep all names and objects consistent (do not rename),\\n        Avoid subject-specific knowledge—the task is about reasoning in an educational context, not teaching content.\\n    \\n        ', '\\n        Please simplify the following logic problem statement and convert it into a \"Simplified Statement\" with \"List Objects\", \"List Actions\" and \"List Instances\" corresponding to its \"Simplified Statement\". \\n            - Each Statement is seperated by dot formula \".\". \\n            - Extract the core information from each statement and present its logical structure in a concise form. \\n            - Ensure that the simplified information maintains all logical relationships of the original statement. \\n            - The number of \"Simplified Statement\", \"List Objects\", \"List Actions\" and \"List Instances\" must be equal to the number of questions statement. \"List Objects\", \"List Actions\" and \"List Instances\" number i is infered from corresponding \"Simplified Statement\" number i.\\n            - \"List Objects\" contains the event of the statement, usually a noun. \"List Actions\" contains the action on the event of the statement, usually a verb, adjective, comparison symbols, etc. \"List Instances\" is the instance of the object, it is proper noun: a word that refers to a specific name of a person, place, thing, idea or sometime a number, etc.\\n            - \"Simplified Statement\", \"List Objects\", \"List Actions\" are must have sections.\\n        You can add \"Important Infomation\" items if you think there is some information that is important but is not appropriate to parallel with the Logical Statements.\\n        Reminder:\\n            - Each \"Simplified Statement\" derive 3 sections \"List Objects\", \"List Actions\", \"List Instances\". If there is no instance in the corresponding statement, return \"List Instances is:\" \"No Instance\".\\n            - \"List Instances\" is only and always only its corresponding statement, not all the statements\\' context.\\n            - Always recheck the answer for each item in each category \"List Objects\", \"List Actions\" and \"List Instances\", this is the Python code:\\n                ### Python function to check the item in each category is validated:\\n                def check_item_validated(category, simplified_statement):\\n                    for item in category.split(\",\"):\\n                        if item in simplified_statement:\\n                            return True\\n                        else:\\n                            while(item not in simplified_statement):\\n                                item = regenerate_item(item)\\n        \\n        Examples:\\n            Simplified Statement 1: Marco and Alice enroll to seminar final, they got accepted for tutor\\n            List Objects 1: seminar, tutor\\n            List Actions 1: enroll, accepted\\n            List Instances 1: Marco, Alice\\n            ###\\n\\n            Simplified Statement 2: Choosing a major requires ≥ 30 credits, GPA ≥ 2.5 (scale 0-4), ≤ 2 violations; second-year status (≥ 24 credits).\\n            List Objects 2: major, credits, GPA, violations, second-year status\\n            List Actions 2: choosing, ≥, ≤\\n            List Instances 2: 30, 2.5, 2, 24\\n            ###\\n\\n            Simplified Statement 3: A student can withdraw up to 2 courses per semester if remaining credits ≥ 12; each withdrawal reduces GPA by 0.1 (scale 0-10).\\n            List Objects 3: courses, semester, credits, withdrawal, GPA\\n            List Actions 3: can withdraw, remaining, reduces, ≥, ≤, \\n            List Instances 3: 2, 12, 0.1\\n            ###\\n\\n            Simplified Statement 4: If a student cannot teach, then they lack a research foundation.\\n            List Objects 4: research foundation\\n            List Actions 4: cannot teach, lack\\n            List Instances 4: No Instance\\n            ###\\n\\n\\n        ### Answer Response: \\n        Desired_format: \"\"\"\\n            Simplified Statement 1 || List Objects 1 || List Actions 1 || List Instances 1\\n            Simplified Statement 2 || List Objects 2 || List Actions 2 || List Instances 2\\n            ... (and so on)\\n        \"\"\"\\n\\n    \\n\\n            <</SYS>>\\n\\n            \\n            Statement 1: A student can withdraw up to 3 courses per academic year if remaining credits ≥ 10 (Year 1, 2) or ≥ 8 (Year 3+); each withdrawal deducts 0.5 credits from total accumulated credits.\\n        \\n\\n\\n            Statement 2: Courses have 3, 4, or 5 credits; withdrawn courses contribute 0 credits to semester GPA.\\n        \\n\\n\\n            Statement 3: Students must register for 12–18 credits per semester; withdrawals reduce semester credits.\\n        \\n\\n\\n            Statement 4: No regulation limits total withdrawals, but max 3 per year.\\n        \\n\\n\\n            Statement 5: A student with < 8 accumulated credits cannot withdraw courses.\\n        \\n\\n\\n            Statement 6: A student (Year 2) has 45 credits, withdrew 2 courses in Year 1 (penalty 1 credit), including C1 (4 credits, withdrawn), C2 (3 credits, withdrawn).\\n        \\n\\n\\n            Statement 7: In Year 2, semester S1, the student registered for 15 credits, withdrew C3 (5 credits), C4 (3 credits), attempted C5 (4 credits, passed).\\n         [/INST]\\n            ', '\\n        \\n        Simplified Statement 1: A student can withdraw up to 3 courses per academic year if remaining credits ≥ 10 (Year 1, 2) or ≥ 8 (Year 3+); each withdrawal deducts 0.5 credits from total accumulated credits.\\n        \\n        List Objects 1: courses, academic year, remaining credits, Year 1, Year 2, Year 3+\\n        List Actions 1: can withdraw, deducts\\n        List Instances 1: 3, 10, 8\\n        \\n        \\n        Simplified Statement 2: Courses have 3, 4, or 5 credits; withdrawn courses contribute 0 credits to semester GPA.\\n        \\n        List Objects 2: courses, credits\\n        List Actions 2: have, contribute\\n        List Instances 2: 3, 4, 5\\n        \\n        \\n        Simplified Statement 3: Students must register for 12–18 credits per semester; withdrawals reduce semester credits.\\n        \\n        List Objects 3: credits, semester\\n        List Actions 3: must register, reduce\\n        List Instances 3: 12, 18\\n        \\n        \\n        Simplified Statement 4: No regulation limits total withdrawals, but max 3 per year.\\n        \\n        List Objects 4: withdrawals, year\\n        List Actions 4: has, limit\\n        List Instances 4: No Instance\\n        \\n        \\n        Simplified Statement 5: A student with < 8 accumulated credits cannot withdraw courses.\\n        \\n        List Objects 5: credits, student\\n        List Actions 5: cannot withdraw\\n        List Instances 5: < 8\\n        \\n        \\n        Simplified Statement 6: A student (Year 2) has 45 credits, withdrew 2 courses in Year 1 (penalty 1 credit), including C1 (4 credits, withdrawn), C2 (3 credits, withdrawn).\\n        \\n        List Objects 6: credits, courses, penalty\\n        List Actions 6: has, withdrew, included\\n        List Instances 6: 45, C1, C2\\n        \\n        \\n        Simplified Statement 7: In Year 2, semester S1, the student registered for 15 credits, withdrew C3 (5 credits), C4 (3 credits), attempted C5 (4 credits, passed).\\n        \\n        List Objects 7: credits, semester, courses, attempted\\n        List Actions 7: registered, withdrew, attempted\\n        List Instances 7: 15, S1, C3, C4, C5\\n        \\n        \\n        Important Information:\\n            - Semester GPA is calculated based on courses attempted, not withdrawn.\\n            - Withdrawal penalty is calculated based on the number of credits withdrawn.\\n            - Total accumulated credits is the sum of all credits earned and withdrawn.\\n            - Maximum withdrawals per year is 3.\\n            - Withdrawal reduces semester credits.\\n            - Withdrawn courses contribute 0 credits to semester GPA.\\n            - Total withdrawals is the sum of all withdrawals made by a student throughout their academic career.\\n            - Student must register for at least 12 credits per semester.\\n            - Withdrawal limit is 3 per year.\\n            - Credits earned is the sum of all credits earned and withdrawn.\\n            - Accumulated credits is the sum of all credits earned and withdrawn throughout the academic career.\\n            - Semester GPA is calculated based on courses attempted, not withdrawn.\\n            - Withdrawal penalty is calculated based on the number of credits withdrawn.\\n            - Total accumulated credits is the sum of all credits earned and withdrawn.\\n            - Maximum withdrawals per year is 3.\\n            - Withdrawal reduces semester credits.\\n            - Withdrawn courses contribute 0 credits to semester GPA.\\n            - Total withdrawals is the sum of all withdrawals made by a student throughout their academic career.\\n            - Student must register for at least 12 credits per semester.\\n            - Withdrawal limit is 3 per year']\n"
     ]
    }
   ],
   "source": [
    "print()"
   ]
  },
  {
   "cell_type": "code",
   "execution_count": null,
   "id": "b652538e",
   "metadata": {},
   "outputs": [],
   "source": [
    "def get_paraphrase_info(response):\n",
    "    text = response.split(\"### Answer Response:\")[-1]\n",
    "    pattern_statements = r\"Simplified Statement \\d+: .*$\"\n",
    "    pattern_objects = r\"List Objects \\d+: .*$\"\n",
    "    pattern_actions = r\"List Actions \\d+: .*$\"\n",
    "    pattern_instances = r\"List Instances \\d+: .*$\"\n",
    "    pattern_information = r\"Importance Information \\d+: .*$\"\n",
    "\n",
    "    matches_statements = re.findall(pattern_statements, text, re.MULTILINE)\n",
    "    matches_objects = re.findall(pattern_objects, text, re.MULTILINE)\n",
    "    matches_actions = re.findall(pattern_actions, text, re.MULTILINE)\n",
    "    matches_instances = re.findall(pattern_instances, text, re.MULTILINE)\n",
    "    matches_information = re.findall(pattern_information, text, re.MULTILINE)\n",
    "    \n",
    "    return matches_statements, matches_objects, matches_actions, matches_instances, matches_information"
   ]
  },
  {
   "cell_type": "code",
   "execution_count": 25,
   "id": "bbdf4d65",
   "metadata": {},
   "outputs": [],
   "source": [
    "def parse_info(info, sep=','):\n",
    "    '''\n",
    "        Sep to split into array\n",
    "    '''\n",
    "    match = re.search(r':\\s*(.*)', info).group(1)\n",
    "    if sep != None:\n",
    "        items = match.split(sep)\n",
    "        # postprocess for list instances\n",
    "        items = [None if item==\"No Instance\" else item.strip() for item in items]\n",
    "        return items\n",
    "    return match"
   ]
  },
  {
   "cell_type": "code",
   "execution_count": 26,
   "id": "b6f8abd5",
   "metadata": {},
   "outputs": [],
   "source": [
    "response = json_file['0']\n",
    "matches_statements, matches_objects, matches_actions, matches_instances, matches_information = get_paraphrase_info(response=response)\n",
    "category_names = ['simplyfied statement', 'list objects', 'list actions', 'list instances', 'list information']\n",
    "categories = [matches_statements, matches_objects, matches_actions, matches_instances, matches_information]\n",
    "\n",
    "dic_info = {}\n",
    "for cat_name, cat in zip (category_names, categories):\n",
    "    if cat_name in ['list objects', 'list actions', 'list instances']:\n",
    "        split = \",\"\n",
    "    elif cat_name == \"list information\":\n",
    "        split = '.'\n",
    "    else:\n",
    "        split = None\n",
    "    parsed_cat = [parse_info(cat_content, split) for cat_content in cat]\n",
    "    dic_info[cat_name] = parsed_cat\n",
    "        "
   ]
  },
  {
   "cell_type": "code",
   "execution_count": 27,
   "id": "445d6eb1",
   "metadata": {},
   "outputs": [
    {
     "data": {
      "text/plain": [
       "{'simplyfied statement': ['A student can withdraw up to 3 courses/academic year if credits ≥ 10 (Year 1, 2) or ≥ 8 (Year 3+); each withdrawal deducts 0.5 credits from total accumulated credits.',\n",
       "  'Courses have credits; withdrawn courses contribute 0 credits to semester GPA.',\n",
       "  'Students must register for credits/semester; withdrawals reduce semester credits.',\n",
       "  'No regulation limits total withdrawals; max 3/year.',\n",
       "  'A student with < 8 accumulated credits cannot withdraw courses.',\n",
       "  'A student has credits; withdrew courses in Year 1 (penalty credit); C1 (4 credits, withdrawn), C2 (3 credits, withdrawn).'],\n",
       " 'list objects': [['courses', 'academic year', 'credits'],\n",
       "  ['courses', 'credits'],\n",
       "  ['credits', 'semester'],\n",
       "  ['withdrawals'],\n",
       "  ['credits'],\n",
       "  ['credits', 'courses']],\n",
       " 'list actions': [['can withdraw', 'deduct'],\n",
       "  ['have', 'contribute'],\n",
       "  ['must register', 'reduce'],\n",
       "  ['limit', 'max'],\n",
       "  ['cannot withdraw'],\n",
       "  ['has', 'withdrew', 'penalty']],\n",
       " 'list instances': [['3', '10', '8'],\n",
       "  ['3', '4', '5'],\n",
       "  ['12', '18'],\n",
       "  [None],\n",
       "  ['8'],\n",
       "  ['45', 'C1', 'C2']],\n",
       " 'list information': [['Withdrawing up to 3 courses per academic year can reduce the total number of credits accumulated',\n",
       "   'Credits represent the amount of work a student has completed for a course',\n",
       "   ''],\n",
       "  ['Withdrawing a course can reduce the impact on the semester GPA',\n",
       "   'Credits represent the amount of work a student has completed for a course',\n",
       "   ''],\n",
       "  ['Registering for the required number of credits can help students complete their degree requirements',\n",
       "   'Credits represent the amount of work a student has completed for a course',\n",
       "   'Withdrawing courses can reduce the number of credits earned in a semester',\n",
       "   ''],\n",
       "  ['There is no limit to the number of withdrawals a student can make, but there is a maximum of 3 withdrawals per year',\n",
       "   ''],\n",
       "  ['Students with fewer than 8 accumulated credits are not eligible to withdraw courses',\n",
       "   'Credits represent the amount of work a student has completed for a course',\n",
       "   ''],\n",
       "  ['Withdrawing courses can result in penalties, such as reducing the number of credits earned',\n",
       "   'Credits represent the amount of work a student has completed for a course',\n",
       "   \"Withdrawing courses can also affect the student's academic record\",\n",
       "   '']]}"
      ]
     },
     "execution_count": 27,
     "metadata": {},
     "output_type": "execute_result"
    }
   ],
   "source": [
    "dic_info"
   ]
  },
  {
   "cell_type": "code",
   "execution_count": null,
   "id": "1e8552ea",
   "metadata": {},
   "outputs": [],
   "source": [
    "# def clean(text):\n",
    "#     cleaned_text = text.split(\"$$$$\")[-1]\n",
    "#     elements = defaultdict(set)\n",
    "\n",
    "#     statements = {}\n",
    "\n",
    "#     # Regex patterns for identifying each section\n",
    "#     stmt_pattern = re.compile(r'^Simplified Statement (\\d+): (.+)$')\n",
    "#     list_pattern = re.compile(r'^List (Objects|Actions|Instances) (\\d+):\\s*(.*)$')\n",
    "\n",
    "#     current_stmt = None\n",
    "\n",
    "#     for line in cleaned_text.splitlines():\n",
    "#         line = line.strip()\n",
    "#         if not line:\n",
    "#             continue\n",
    "\n",
    "#         # Match statement\n",
    "#         stmt_match = stmt_pattern.match(line)\n",
    "#         if stmt_match:\n",
    "#             stmt_num, stmt_text = stmt_match.groups()\n",
    "#             current_stmt = f\"Statement {stmt_num}\"\n",
    "#             statements[current_stmt] = {\n",
    "#                 \"text\": stmt_text,\n",
    "#                 \"objects\": [],\n",
    "#                 \"actions\": [],\n",
    "#                 \"instances\": []\n",
    "#             }\n",
    "#             continue\n",
    "\n",
    "#         # Match associated objects/actions/instances\n",
    "#         list_match = list_pattern.match(line)\n",
    "#         if list_match and current_stmt:\n",
    "#             category, num, items = list_match.groups()\n",
    "#             if f\"Statement {num}\" == current_stmt:\n",
    "#                 elements = [item.strip() for item in items.split(\",\") if item.strip() and item.lower() != \"no instance\"]\n",
    "#                 category_key = category.lower()\n",
    "#                 statements[current_stmt][category_key + 's'] = elements\n",
    "\n",
    "#     return statements\n",
    "# clean(json_file['0'])"
   ]
  }
 ],
 "metadata": {
  "kernelspec": {
   "display_name": "Python 3",
   "language": "python",
   "name": "python3"
  },
  "language_info": {
   "codemirror_mode": {
    "name": "ipython",
    "version": 3
   },
   "file_extension": ".py",
   "mimetype": "text/x-python",
   "name": "python",
   "nbconvert_exporter": "python",
   "pygments_lexer": "ipython3",
   "version": "3.10.16"
  }
 },
 "nbformat": 4,
 "nbformat_minor": 5
}
